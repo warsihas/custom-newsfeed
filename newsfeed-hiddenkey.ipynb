{
 "cells": [
  {
   "cell_type": "code",
   "execution_count": 57,
   "id": "9ca471f1-7ac5-4b26-8df9-37e18e3085e8",
   "metadata": {},
   "outputs": [],
   "source": [
    "import requests\n",
    "import pandas as pd\n",
    "import json\n",
    "\n",
    "from urllib.parse import urlencode\n",
    "from urllib.request import Request, urlopen\n",
    "\n",
    "import re\n",
    "\n",
    "pd.set_option('display.max_colwidth', 200)"
   ]
  },
  {
   "cell_type": "code",
   "execution_count": 58,
   "id": "7ca101c6-9b66-4011-b9d3-185b12d4b0ca",
   "metadata": {},
   "outputs": [],
   "source": [
    "consumer_key = \"my_pocket_consumer_key\""
   ]
  },
  {
   "cell_type": "code",
   "execution_count": 59,
   "id": "2cdefaa4-42aa-4ead-a1bf-32b746826507",
   "metadata": {},
   "outputs": [],
   "source": [
    "# POST request for token\n",
    "url = 'https://getpocket.com/v3/oauth/request' # Set destination URL here\n",
    "post_fields = {\"consumer_key\": consumer_key, \"redirect_uri\":\"https://www.google.com\"}   # Set POST fields here\n",
    "request = Request(url, urlencode(post_fields).encode())\n",
    "json_request = urlopen(request).read().decode()"
   ]
  },
  {
   "cell_type": "code",
   "execution_count": 60,
   "id": "585b33ec-2497-42a1-b888-9d61987d369f",
   "metadata": {},
   "outputs": [],
   "source": [
    "request_token = re.search('(?<=\\=).*', json_request).group()"
   ]
  },
  {
   "cell_type": "code",
   "execution_count": 61,
   "id": "b9593474-1f5e-4a80-985e-d191c0aa2785",
   "metadata": {},
   "outputs": [],
   "source": [
    "enter_in_browser = 'https://getpocket.com/auth/authorize?request_token=' + request_token + '&redirect_uri=https://www.google.com'"
   ]
  },
  {
   "cell_type": "code",
   "execution_count": 64,
   "id": "9b14d44b-341b-424e-82f0-09f83a6116a4",
   "metadata": {},
   "outputs": [],
   "source": [
    "# POST request an access token\n",
    "url = 'https://getpocket.com/v3/oauth/authorize' # Set destination URL here\n",
    "post_fields = {\"consumer_key\": consumer_key, \"code\": request_token}  # Set POST fields here\n",
    "request = Request(url, urlencode(post_fields).encode())\n",
    "access_token = urlopen(request).read().decode()"
   ]
  },
  {
   "cell_type": "code",
   "execution_count": 65,
   "id": "626c0fde-cf9f-4f15-a01f-4a31d12a3cf4",
   "metadata": {},
   "outputs": [],
   "source": [
    "access_token = re.search('(?<=\\=)(.*?)(?=\\&)', access_token).group()"
   ]
  },
  {
   "cell_type": "markdown",
   "id": "edfa3ea2-ae9d-4f27-999a-7f365f7b1b2f",
   "metadata": {},
   "source": [
    "## Get No articles"
   ]
  },
  {
   "cell_type": "code",
   "execution_count": 10,
   "id": "e456a6fc-2040-4223-a5bb-1d80b803b5b8",
   "metadata": {},
   "outputs": [],
   "source": [
    "# GET request for data in JSON format\n",
    "no_parameters = {\"consumer_key\":consumer_key, \"access_token\": access_token, \"tag\": 'n'}\n",
    "no_response = requests.get(\"https://getpocket.com/v3/get\", params=no_parameters)"
   ]
  },
  {
   "cell_type": "code",
   "execution_count": 11,
   "id": "0251a156-c683-4d06-b5aa-ba37a1491e52",
   "metadata": {},
   "outputs": [
    {
     "data": {
      "text/plain": [
       "<Response [200]>"
      ]
     },
     "execution_count": 11,
     "metadata": {},
     "output_type": "execute_result"
    }
   ],
   "source": [
    "no_response"
   ]
  },
  {
   "cell_type": "code",
   "execution_count": 12,
   "id": "0b35065d-13bb-4b8c-98f5-ae6f1af2a7db",
   "metadata": {},
   "outputs": [],
   "source": [
    "no_df = pd.DataFrame(no_response.json()['list']).T\n",
    "no_df['wanted'] = 'n'\n",
    "\n",
    "no_df = no_df[['given_url', 'wanted']].copy().rename({'given_url': 'url'}, axis = 1)"
   ]
  },
  {
   "cell_type": "code",
   "execution_count": 13,
   "id": "50b0b584-e07d-445a-8f18-0e38aef7ea38",
   "metadata": {},
   "outputs": [
    {
     "data": {
      "text/html": [
       "<div>\n",
       "<style scoped>\n",
       "    .dataframe tbody tr th:only-of-type {\n",
       "        vertical-align: middle;\n",
       "    }\n",
       "\n",
       "    .dataframe tbody tr th {\n",
       "        vertical-align: top;\n",
       "    }\n",
       "\n",
       "    .dataframe thead th {\n",
       "        text-align: right;\n",
       "    }\n",
       "</style>\n",
       "<table border=\"1\" class=\"dataframe\">\n",
       "  <thead>\n",
       "    <tr style=\"text-align: right;\">\n",
       "      <th></th>\n",
       "      <th>url</th>\n",
       "      <th>wanted</th>\n",
       "    </tr>\n",
       "  </thead>\n",
       "  <tbody>\n",
       "    <tr>\n",
       "      <th>3476401352</th>\n",
       "      <td>https://www.huffpost.com/entry/exposed-to-covid-at-work-what-to-ask-be-told_l_6184021de4b087e2ef945137</td>\n",
       "      <td>n</td>\n",
       "    </tr>\n",
       "    <tr>\n",
       "      <th>3476810938</th>\n",
       "      <td>https://www.huffpost.com/entry/best-friends-cheating-husband-stakeout_n_618546a5e4b087e2ef96abb4</td>\n",
       "      <td>n</td>\n",
       "    </tr>\n",
       "    <tr>\n",
       "      <th>3477048541</th>\n",
       "      <td>https://www.huffpost.com/entry/lance-bass-britney-spears-ancestry-test_n_618a7d4ae4b0a518aca60803</td>\n",
       "      <td>n</td>\n",
       "    </tr>\n",
       "    <tr>\n",
       "      <th>3477046417</th>\n",
       "      <td>https://www.huffpost.com/entry/drake-breaks-silence-on-astroworld-tragedy_n_618aaa21e4b0c8666be2eb2b</td>\n",
       "      <td>n</td>\n",
       "    </tr>\n",
       "    <tr>\n",
       "      <th>3476793988</th>\n",
       "      <td>https://www.huffpost.com/entry/alec-baldwin-police-weapons-safety_n_618a61dfe4b055e47d7fe7b0</td>\n",
       "      <td>n</td>\n",
       "    </tr>\n",
       "  </tbody>\n",
       "</table>\n",
       "</div>"
      ],
      "text/plain": [
       "                                                                                                               url  \\\n",
       "3476401352  https://www.huffpost.com/entry/exposed-to-covid-at-work-what-to-ask-be-told_l_6184021de4b087e2ef945137   \n",
       "3476810938        https://www.huffpost.com/entry/best-friends-cheating-husband-stakeout_n_618546a5e4b087e2ef96abb4   \n",
       "3477048541       https://www.huffpost.com/entry/lance-bass-britney-spears-ancestry-test_n_618a7d4ae4b0a518aca60803   \n",
       "3477046417    https://www.huffpost.com/entry/drake-breaks-silence-on-astroworld-tragedy_n_618aaa21e4b0c8666be2eb2b   \n",
       "3476793988            https://www.huffpost.com/entry/alec-baldwin-police-weapons-safety_n_618a61dfe4b055e47d7fe7b0   \n",
       "\n",
       "           wanted  \n",
       "3476401352      n  \n",
       "3476810938      n  \n",
       "3477048541      n  \n",
       "3477046417      n  \n",
       "3476793988      n  "
      ]
     },
     "execution_count": 13,
     "metadata": {},
     "output_type": "execute_result"
    }
   ],
   "source": [
    "no_df.head()"
   ]
  },
  {
   "cell_type": "markdown",
   "id": "c07f5d40-b713-49af-b1a6-755213546ee5",
   "metadata": {},
   "source": [
    "## Get Yes articles"
   ]
  },
  {
   "cell_type": "code",
   "execution_count": 14,
   "id": "a801d6dc-edf3-4352-9b4a-3c38644300f4",
   "metadata": {},
   "outputs": [],
   "source": [
    "# GET request for data in JSON format\n",
    "yes_parameters = {\"consumer_key\":consumer_key, \"access_token\": access_token, \"tag\": 'y'}\n",
    "yes_response = requests.get(\"https://getpocket.com/v3/get\", params=yes_parameters)"
   ]
  },
  {
   "cell_type": "code",
   "execution_count": 15,
   "id": "70ecfb20-4854-4c4b-9944-85b7be83de37",
   "metadata": {},
   "outputs": [
    {
     "data": {
      "text/plain": [
       "<Response [200]>"
      ]
     },
     "execution_count": 15,
     "metadata": {},
     "output_type": "execute_result"
    }
   ],
   "source": [
    "yes_response"
   ]
  },
  {
   "cell_type": "code",
   "execution_count": 16,
   "id": "bb06410f-6540-4777-bdf2-82145ed979b4",
   "metadata": {},
   "outputs": [],
   "source": [
    "yes_df = pd.DataFrame(yes_response.json()['list']).T\n",
    "yes_df['wanted'] = 'y'\n",
    "\n",
    "yes_df = yes_df[['given_url', 'wanted']].copy().rename({'given_url': 'url'}, axis = 1)"
   ]
  },
  {
   "cell_type": "code",
   "execution_count": 17,
   "id": "efec6a11-080b-42ea-ac88-27ae79be8319",
   "metadata": {},
   "outputs": [
    {
     "data": {
      "text/html": [
       "<div>\n",
       "<style scoped>\n",
       "    .dataframe tbody tr th:only-of-type {\n",
       "        vertical-align: middle;\n",
       "    }\n",
       "\n",
       "    .dataframe tbody tr th {\n",
       "        vertical-align: top;\n",
       "    }\n",
       "\n",
       "    .dataframe thead th {\n",
       "        text-align: right;\n",
       "    }\n",
       "</style>\n",
       "<table border=\"1\" class=\"dataframe\">\n",
       "  <thead>\n",
       "    <tr style=\"text-align: right;\">\n",
       "      <th></th>\n",
       "      <th>url</th>\n",
       "      <th>wanted</th>\n",
       "    </tr>\n",
       "  </thead>\n",
       "  <tbody>\n",
       "    <tr>\n",
       "      <th>3476754648</th>\n",
       "      <td>https://www.huffpost.com/entry/nikola-jokic-cheap-shot-markieff-morris_n_618a4882e4b06de3eb7a60a7</td>\n",
       "      <td>y</td>\n",
       "    </tr>\n",
       "    <tr>\n",
       "      <th>3476744814</th>\n",
       "      <td>https://www.huffpost.com/entry/thanksgiving-shortcuts_l_6183ef01e4b0ad6f587fb6d9</td>\n",
       "      <td>y</td>\n",
       "    </tr>\n",
       "    <tr>\n",
       "      <th>3476512361</th>\n",
       "      <td>https://www.huffpost.com/entry/jimmy-kimmel-aaron-rodgers-covid-vaccination_n_6189f3f8e4b087e2ef9bfec1</td>\n",
       "      <td>y</td>\n",
       "    </tr>\n",
       "    <tr>\n",
       "      <th>3476988454</th>\n",
       "      <td>https://www.huffpost.com/entry/judge-permits-unpaid-leave-unvaccinated-united-employees_n_618a98b2e4b0c8666be2b6cb</td>\n",
       "      <td>y</td>\n",
       "    </tr>\n",
       "    <tr>\n",
       "      <th>3476273279</th>\n",
       "      <td>https://www.huffpost.com/entry/democrats-tax-cuts-jobs-act_n_618982f1e4b0ad6f58872a10</td>\n",
       "      <td>y</td>\n",
       "    </tr>\n",
       "  </tbody>\n",
       "</table>\n",
       "</div>"
      ],
      "text/plain": [
       "                                                                                                                           url  \\\n",
       "3476754648                   https://www.huffpost.com/entry/nikola-jokic-cheap-shot-markieff-morris_n_618a4882e4b06de3eb7a60a7   \n",
       "3476744814                                    https://www.huffpost.com/entry/thanksgiving-shortcuts_l_6183ef01e4b0ad6f587fb6d9   \n",
       "3476512361              https://www.huffpost.com/entry/jimmy-kimmel-aaron-rodgers-covid-vaccination_n_6189f3f8e4b087e2ef9bfec1   \n",
       "3476988454  https://www.huffpost.com/entry/judge-permits-unpaid-leave-unvaccinated-united-employees_n_618a98b2e4b0c8666be2b6cb   \n",
       "3476273279                               https://www.huffpost.com/entry/democrats-tax-cuts-jobs-act_n_618982f1e4b0ad6f58872a10   \n",
       "\n",
       "           wanted  \n",
       "3476754648      y  \n",
       "3476744814      y  \n",
       "3476512361      y  \n",
       "3476988454      y  \n",
       "3476273279      y  "
      ]
     },
     "execution_count": 17,
     "metadata": {},
     "output_type": "execute_result"
    }
   ],
   "source": [
    "yes_df.head()"
   ]
  },
  {
   "cell_type": "code",
   "execution_count": 18,
   "id": "52ce5c2b-497a-48aa-ac92-059de5125c17",
   "metadata": {},
   "outputs": [],
   "source": [
    "full_df = pd.concat([yes_df, no_df]).reset_index(drop=True)"
   ]
  },
  {
   "cell_type": "code",
   "execution_count": 19,
   "id": "4ed0febd-ed1b-4723-ba20-46f7c727e1bd",
   "metadata": {},
   "outputs": [
    {
     "data": {
      "text/html": [
       "<div>\n",
       "<style scoped>\n",
       "    .dataframe tbody tr th:only-of-type {\n",
       "        vertical-align: middle;\n",
       "    }\n",
       "\n",
       "    .dataframe tbody tr th {\n",
       "        vertical-align: top;\n",
       "    }\n",
       "\n",
       "    .dataframe thead th {\n",
       "        text-align: right;\n",
       "    }\n",
       "</style>\n",
       "<table border=\"1\" class=\"dataframe\">\n",
       "  <thead>\n",
       "    <tr style=\"text-align: right;\">\n",
       "      <th></th>\n",
       "      <th>url</th>\n",
       "    </tr>\n",
       "    <tr>\n",
       "      <th>wanted</th>\n",
       "      <th></th>\n",
       "    </tr>\n",
       "  </thead>\n",
       "  <tbody>\n",
       "    <tr>\n",
       "      <th>n</th>\n",
       "      <td>69</td>\n",
       "    </tr>\n",
       "    <tr>\n",
       "      <th>y</th>\n",
       "      <td>96</td>\n",
       "    </tr>\n",
       "  </tbody>\n",
       "</table>\n",
       "</div>"
      ],
      "text/plain": [
       "        url\n",
       "wanted     \n",
       "n        69\n",
       "y        96"
      ]
     },
     "execution_count": 19,
     "metadata": {},
     "output_type": "execute_result"
    }
   ],
   "source": [
    "full_df.groupby('wanted').count()"
   ]
  },
  {
   "cell_type": "code",
   "execution_count": 20,
   "id": "aa3bd1f1-2cd4-4de7-bcf1-cf617e83092e",
   "metadata": {},
   "outputs": [
    {
     "data": {
      "text/html": [
       "<div>\n",
       "<style scoped>\n",
       "    .dataframe tbody tr th:only-of-type {\n",
       "        vertical-align: middle;\n",
       "    }\n",
       "\n",
       "    .dataframe tbody tr th {\n",
       "        vertical-align: top;\n",
       "    }\n",
       "\n",
       "    .dataframe thead th {\n",
       "        text-align: right;\n",
       "    }\n",
       "</style>\n",
       "<table border=\"1\" class=\"dataframe\">\n",
       "  <thead>\n",
       "    <tr style=\"text-align: right;\">\n",
       "      <th></th>\n",
       "      <th>url</th>\n",
       "      <th>wanted</th>\n",
       "    </tr>\n",
       "  </thead>\n",
       "  <tbody>\n",
       "    <tr>\n",
       "      <th>0</th>\n",
       "      <td>https://www.huffpost.com/entry/nikola-jokic-cheap-shot-markieff-morris_n_618a4882e4b06de3eb7a60a7</td>\n",
       "      <td>y</td>\n",
       "    </tr>\n",
       "    <tr>\n",
       "      <th>1</th>\n",
       "      <td>https://www.huffpost.com/entry/thanksgiving-shortcuts_l_6183ef01e4b0ad6f587fb6d9</td>\n",
       "      <td>y</td>\n",
       "    </tr>\n",
       "    <tr>\n",
       "      <th>2</th>\n",
       "      <td>https://www.huffpost.com/entry/jimmy-kimmel-aaron-rodgers-covid-vaccination_n_6189f3f8e4b087e2ef9bfec1</td>\n",
       "      <td>y</td>\n",
       "    </tr>\n",
       "    <tr>\n",
       "      <th>3</th>\n",
       "      <td>https://www.huffpost.com/entry/judge-permits-unpaid-leave-unvaccinated-united-employees_n_618a98b2e4b0c8666be2b6cb</td>\n",
       "      <td>y</td>\n",
       "    </tr>\n",
       "    <tr>\n",
       "      <th>4</th>\n",
       "      <td>https://www.huffpost.com/entry/democrats-tax-cuts-jobs-act_n_618982f1e4b0ad6f58872a10</td>\n",
       "      <td>y</td>\n",
       "    </tr>\n",
       "    <tr>\n",
       "      <th>...</th>\n",
       "      <td>...</td>\n",
       "      <td>...</td>\n",
       "    </tr>\n",
       "    <tr>\n",
       "      <th>160</th>\n",
       "      <td>https://www.elle.com/beauty/a38182879/ariana-grande-rem-beauty-interview/</td>\n",
       "      <td>n</td>\n",
       "    </tr>\n",
       "    <tr>\n",
       "      <th>161</th>\n",
       "      <td>https://www.elle.com/beauty/makeup-skin-care/g12505954/best-pore-minimizers/</td>\n",
       "      <td>n</td>\n",
       "    </tr>\n",
       "    <tr>\n",
       "      <th>162</th>\n",
       "      <td>https://www.elle.com/fashion/a38175883/kim-kardashian-fendi-x-skims-video-campaign/</td>\n",
       "      <td>n</td>\n",
       "    </tr>\n",
       "    <tr>\n",
       "      <th>163</th>\n",
       "      <td>https://www.menshealth.com/technology-gear/g29503936/hiking-essentials/</td>\n",
       "      <td>n</td>\n",
       "    </tr>\n",
       "    <tr>\n",
       "      <th>164</th>\n",
       "      <td>https://medium.com/@KCTinsley/a-love-letter-to-chappelle-b550e28c813f</td>\n",
       "      <td>n</td>\n",
       "    </tr>\n",
       "  </tbody>\n",
       "</table>\n",
       "<p>165 rows × 2 columns</p>\n",
       "</div>"
      ],
      "text/plain": [
       "                                                                                                                    url  \\\n",
       "0                     https://www.huffpost.com/entry/nikola-jokic-cheap-shot-markieff-morris_n_618a4882e4b06de3eb7a60a7   \n",
       "1                                      https://www.huffpost.com/entry/thanksgiving-shortcuts_l_6183ef01e4b0ad6f587fb6d9   \n",
       "2                https://www.huffpost.com/entry/jimmy-kimmel-aaron-rodgers-covid-vaccination_n_6189f3f8e4b087e2ef9bfec1   \n",
       "3    https://www.huffpost.com/entry/judge-permits-unpaid-leave-unvaccinated-united-employees_n_618a98b2e4b0c8666be2b6cb   \n",
       "4                                 https://www.huffpost.com/entry/democrats-tax-cuts-jobs-act_n_618982f1e4b0ad6f58872a10   \n",
       "..                                                                                                                  ...   \n",
       "160                                           https://www.elle.com/beauty/a38182879/ariana-grande-rem-beauty-interview/   \n",
       "161                                        https://www.elle.com/beauty/makeup-skin-care/g12505954/best-pore-minimizers/   \n",
       "162                                 https://www.elle.com/fashion/a38175883/kim-kardashian-fendi-x-skims-video-campaign/   \n",
       "163                                             https://www.menshealth.com/technology-gear/g29503936/hiking-essentials/   \n",
       "164                                               https://medium.com/@KCTinsley/a-love-letter-to-chappelle-b550e28c813f   \n",
       "\n",
       "    wanted  \n",
       "0        y  \n",
       "1        y  \n",
       "2        y  \n",
       "3        y  \n",
       "4        y  \n",
       "..     ...  \n",
       "160      n  \n",
       "161      n  \n",
       "162      n  \n",
       "163      n  \n",
       "164      n  \n",
       "\n",
       "[165 rows x 2 columns]"
      ]
     },
     "execution_count": 20,
     "metadata": {},
     "output_type": "execute_result"
    }
   ],
   "source": [
    "full_df"
   ]
  },
  {
   "cell_type": "markdown",
   "id": "1ff6b7f5-b6d0-48ef-89ec-d9b74d4538db",
   "metadata": {},
   "source": [
    "## Get article text"
   ]
  },
  {
   "cell_type": "code",
   "execution_count": 21,
   "id": "de472e7b-f8de-4226-9ddf-757bcfff4ec0",
   "metadata": {},
   "outputs": [],
   "source": [
    "from bs4 import BeautifulSoup\n",
    "from joblib import Parallel, delayed\n",
    "import time"
   ]
  },
  {
   "cell_type": "code",
   "execution_count": 22,
   "id": "a9eb2da5-e3d4-4f5a-a9d6-e30a83231f49",
   "metadata": {},
   "outputs": [],
   "source": [
    "def get_article_text(url):\n",
    "    page = requests.get(url)\n",
    "    soup = BeautifulSoup(page.content, 'html.parser')\n",
    "    \n",
    "    return \" \".join(x.get_text() for x in soup.find_all('p'))\n",
    "    "
   ]
  },
  {
   "cell_type": "code",
   "execution_count": 23,
   "id": "157828b9-8fb1-4265-b543-f501916d1008",
   "metadata": {},
   "outputs": [
    {
     "name": "stdout",
     "output_type": "stream",
     "text": [
      "40.16879892349243\n"
     ]
    }
   ],
   "source": [
    "t = time.time()\n",
    "article_texts = Parallel(n_jobs=-1)(delayed(get_article_text)(url) for url in full_df.loc[:, 'url'])\n",
    "print(time.time() - t) "
   ]
  },
  {
   "cell_type": "code",
   "execution_count": 24,
   "id": "d03a4614-35db-4fb8-aa9d-541019f241f0",
   "metadata": {},
   "outputs": [
    {
     "data": {
      "text/plain": [
       "165"
      ]
     },
     "execution_count": 24,
     "metadata": {},
     "output_type": "execute_result"
    }
   ],
   "source": [
    "len(article_texts)"
   ]
  },
  {
   "cell_type": "code",
   "execution_count": 25,
   "id": "a0cd1646-55f7-4867-85ae-0a572fcf07b1",
   "metadata": {},
   "outputs": [],
   "source": [
    "full_df['article_text'] = article_texts\n",
    "\n",
    "# turn text to lowercase\n",
    "full_df['article_text'] = full_df['article_text'].str.lower() "
   ]
  },
  {
   "cell_type": "code",
   "execution_count": 26,
   "id": "6b44e1d4-d67a-4f10-93aa-fa64869a3cb4",
   "metadata": {},
   "outputs": [],
   "source": [
    "def clean_str(s):\n",
    "    s = re.sub(r\"\\'s\", \" is\", s) # replace 's with is\n",
    "    s = re.sub(r\"\\'ve\", \" have\", s) #replace 've with have\n",
    "    s = re.sub(r\"n\\'t\", \" not\", s) #replace 've with not\n",
    "    s = re.sub(r\"\\'ll\", \" will\", s) #replace 'll with will\n",
    "    s = re.sub(r\"http\\S+\", ' ', s) # replace urls with blank space\n",
    "    s = re.sub(r\"[^a-z \\-]\", \" \", s) # remove all characters that are not alpha\n",
    "    s = re.sub(r\"[\\-]\", \" \", s) # replace hyphens to join words\n",
    "    s = re.sub(r\"\\b[a-zA-Z]\\b\", \" \", s) # remove any one letter words\n",
    "    s = re.sub('\\S*@\\S*\\s?', '', s) # remove emails\n",
    "    s = re.sub('\\s+', ' ', s) # remove newline characters\n",
    "    s = re.sub(r\"\\s{2,}\", \" \", s) # replace any extra spaces with one space\n",
    "    return s.strip()"
   ]
  },
  {
   "cell_type": "code",
   "execution_count": 27,
   "id": "1d4ae6ba-cb99-47e2-a871-e97bc0dad655",
   "metadata": {},
   "outputs": [],
   "source": [
    "full_df['article_text_clean'] = full_df['article_text'].apply(clean_str)"
   ]
  },
  {
   "cell_type": "code",
   "execution_count": 28,
   "id": "52f545ac-0c67-4300-857f-52e32a013d5a",
   "metadata": {},
   "outputs": [
    {
     "data": {
      "text/html": [
       "<div>\n",
       "<style scoped>\n",
       "    .dataframe tbody tr th:only-of-type {\n",
       "        vertical-align: middle;\n",
       "    }\n",
       "\n",
       "    .dataframe tbody tr th {\n",
       "        vertical-align: top;\n",
       "    }\n",
       "\n",
       "    .dataframe thead th {\n",
       "        text-align: right;\n",
       "    }\n",
       "</style>\n",
       "<table border=\"1\" class=\"dataframe\">\n",
       "  <thead>\n",
       "    <tr style=\"text-align: right;\">\n",
       "      <th></th>\n",
       "      <th>url</th>\n",
       "      <th>wanted</th>\n",
       "      <th>article_text</th>\n",
       "      <th>article_text_clean</th>\n",
       "    </tr>\n",
       "  </thead>\n",
       "  <tbody>\n",
       "    <tr>\n",
       "      <th>0</th>\n",
       "      <td>https://www.huffpost.com/entry/nikola-jokic-cheap-shot-markieff-morris_n_618a4882e4b06de3eb7a60a7</td>\n",
       "      <td>y</td>\n",
       "      <td>general assignment reporter, huffpost reigning mvp nikola jokic of the denver nuggets blindsided the miami heat’s markieff morris with a hit from behind that jerked morris’ head back during their ...</td>\n",
       "      <td>general assignment reporter huffpost reigning mvp nikola jokic of the denver nuggets blindsided the miami heat markieff morris with hit from behind that jerked morris head back during their nba ga...</td>\n",
       "    </tr>\n",
       "    <tr>\n",
       "      <th>1</th>\n",
       "      <td>https://www.huffpost.com/entry/thanksgiving-shortcuts_l_6183ef01e4b0ad6f587fb6d9</td>\n",
       "      <td>y</td>\n",
       "      <td>on assignment for huffpost there’s one thing that all chefs seem to agree on when it comes to cooking thanksgiving dinner: there’s always a lot to do, so finding ways to save time is just as impor...</td>\n",
       "      <td>on assignment for huffpost there one thing that all chefs seem to agree on when it comes to cooking thanksgiving dinner there always lot to do so finding ways to save time is just as important as ...</td>\n",
       "    </tr>\n",
       "    <tr>\n",
       "      <th>2</th>\n",
       "      <td>https://www.huffpost.com/entry/jimmy-kimmel-aaron-rodgers-covid-vaccination_n_6189f3f8e4b087e2ef9bfec1</td>\n",
       "      <td>y</td>\n",
       "      <td>overnight editor, huffpost jimmy kimmel spent much of his monday night monologue tearing into green bay packers quarterback aaron rodgers, who evaded questions about his vaccine status and then ca...</td>\n",
       "      <td>overnight editor huffpost jimmy kimmel spent much of his monday night monologue tearing into green bay packers quarterback aaron rodgers who evaded questions about his vaccine status and then caug...</td>\n",
       "    </tr>\n",
       "    <tr>\n",
       "      <th>3</th>\n",
       "      <td>https://www.huffpost.com/entry/judge-permits-unpaid-leave-unvaccinated-united-employees_n_618a98b2e4b0c8666be2b6cb</td>\n",
       "      <td>y</td>\n",
       "      <td>breaking news reporter, huffpost a federal judge has ruled that united airlines can place its unvaccinated employees on unpaid leave, even if those employees received religious or medical exemptio...</td>\n",
       "      <td>breaking news reporter huffpost federal judge has ruled that united airlines can place its unvaccinated employees on unpaid leave even if those employees received religious or medical exemptions f...</td>\n",
       "    </tr>\n",
       "    <tr>\n",
       "      <th>4</th>\n",
       "      <td>https://www.huffpost.com/entry/democrats-tax-cuts-jobs-act_n_618982f1e4b0ad6f58872a10</td>\n",
       "      <td>y</td>\n",
       "      <td>senior reporter, huffpost politics reporter, huffpost washington — after republicans slashed tax rates in 2017, democrats won control of the house of representatives partly by promising to undo th...</td>\n",
       "      <td>senior reporter huffpost politics reporter huffpost washington after republicans slashed tax rates in democrats won control of the house of representatives partly by promising to undo the gop tax ...</td>\n",
       "    </tr>\n",
       "    <tr>\n",
       "      <th>...</th>\n",
       "      <td>...</td>\n",
       "      <td>...</td>\n",
       "      <td>...</td>\n",
       "      <td>...</td>\n",
       "    </tr>\n",
       "    <tr>\n",
       "      <th>160</th>\n",
       "      <td>https://www.elle.com/beauty/a38182879/ariana-grande-rem-beauty-interview/</td>\n",
       "      <td>n</td>\n",
       "      <td>\\n\\t\\tevery item on this page was chosen by an elle editor. we may earn commission on some of the items you choose to buy.\\n\\n\\t\\t\\t the singer swatched each product as jennifer coolidge—bend-and-...</td>\n",
       "      <td>every item on this page was chosen by an elle editor we may earn commission on some of the items you choose to buy the singer swatched each product as jennifer coolidge bend and snap not included ...</td>\n",
       "    </tr>\n",
       "    <tr>\n",
       "      <th>161</th>\n",
       "      <td>https://www.elle.com/beauty/makeup-skin-care/g12505954/best-pore-minimizers/</td>\n",
       "      <td>n</td>\n",
       "      <td>\\n\\t\\tevery item on this page was chosen by an elle editor. we may earn commission on some of the items you choose to buy.\\n\\n\\t\\t\\t from de-gunking pore strips to facials in a jar.  if pore size ...</td>\n",
       "      <td>every item on this page was chosen by an elle editor we may earn commission on some of the items you choose to buy from de gunking pore strips to facials in jar if pore size is concern know that f...</td>\n",
       "    </tr>\n",
       "    <tr>\n",
       "      <th>162</th>\n",
       "      <td>https://www.elle.com/fashion/a38175883/kim-kardashian-fendi-x-skims-video-campaign/</td>\n",
       "      <td>n</td>\n",
       "      <td>\\n\\t\\tevery item on this page was chosen by an elle editor. we may earn commission on some of the items you choose to buy.\\n\\n\\t\\t\\t see kim kardashian west pose in hot pink, exclusively on elle.c...</td>\n",
       "      <td>every item on this page was chosen by an elle editor we may earn commission on some of the items you choose to buy see kim kardashian west pose in hot pink exclusively on elle com when fendi colla...</td>\n",
       "    </tr>\n",
       "    <tr>\n",
       "      <th>163</th>\n",
       "      <td>https://www.menshealth.com/technology-gear/g29503936/hiking-essentials/</td>\n",
       "      <td>n</td>\n",
       "      <td>\\n\\t\\tour product picks are editor-tested, expert-approved. we may earn a commission through links on our site.\\n\\n\\t\\t\\t gear up to explore the wild with everything you’ll need. picture this: you...</td>\n",
       "      <td>our product picks are editor tested expert approved we may earn commission through links on our site gear up to explore the wild with everything you ll need picture this you re about to head into ...</td>\n",
       "    </tr>\n",
       "    <tr>\n",
       "      <th>164</th>\n",
       "      <td>https://medium.com/@KCTinsley/a-love-letter-to-chappelle-b550e28c813f</td>\n",
       "      <td>n</td>\n",
       "      <td>sign in k.c. tinsley oct 27·10 min read how have you been? i hear you’ve gotten yourself into some heat as of late! then again, what else is new with you, old friend? har, har, har. i’m curious wh...</td>\n",
       "      <td>sign in tinsley oct min read how have you been hear you ve gotten yourself into some heat as of late then again what else is new with you old friend har har har curious what you will think as you ...</td>\n",
       "    </tr>\n",
       "  </tbody>\n",
       "</table>\n",
       "<p>165 rows × 4 columns</p>\n",
       "</div>"
      ],
      "text/plain": [
       "                                                                                                                    url  \\\n",
       "0                     https://www.huffpost.com/entry/nikola-jokic-cheap-shot-markieff-morris_n_618a4882e4b06de3eb7a60a7   \n",
       "1                                      https://www.huffpost.com/entry/thanksgiving-shortcuts_l_6183ef01e4b0ad6f587fb6d9   \n",
       "2                https://www.huffpost.com/entry/jimmy-kimmel-aaron-rodgers-covid-vaccination_n_6189f3f8e4b087e2ef9bfec1   \n",
       "3    https://www.huffpost.com/entry/judge-permits-unpaid-leave-unvaccinated-united-employees_n_618a98b2e4b0c8666be2b6cb   \n",
       "4                                 https://www.huffpost.com/entry/democrats-tax-cuts-jobs-act_n_618982f1e4b0ad6f58872a10   \n",
       "..                                                                                                                  ...   \n",
       "160                                           https://www.elle.com/beauty/a38182879/ariana-grande-rem-beauty-interview/   \n",
       "161                                        https://www.elle.com/beauty/makeup-skin-care/g12505954/best-pore-minimizers/   \n",
       "162                                 https://www.elle.com/fashion/a38175883/kim-kardashian-fendi-x-skims-video-campaign/   \n",
       "163                                             https://www.menshealth.com/technology-gear/g29503936/hiking-essentials/   \n",
       "164                                               https://medium.com/@KCTinsley/a-love-letter-to-chappelle-b550e28c813f   \n",
       "\n",
       "    wanted  \\\n",
       "0        y   \n",
       "1        y   \n",
       "2        y   \n",
       "3        y   \n",
       "4        y   \n",
       "..     ...   \n",
       "160      n   \n",
       "161      n   \n",
       "162      n   \n",
       "163      n   \n",
       "164      n   \n",
       "\n",
       "                                                                                                                                                                                                article_text  \\\n",
       "0    general assignment reporter, huffpost reigning mvp nikola jokic of the denver nuggets blindsided the miami heat’s markieff morris with a hit from behind that jerked morris’ head back during their ...   \n",
       "1    on assignment for huffpost there’s one thing that all chefs seem to agree on when it comes to cooking thanksgiving dinner: there’s always a lot to do, so finding ways to save time is just as impor...   \n",
       "2    overnight editor, huffpost jimmy kimmel spent much of his monday night monologue tearing into green bay packers quarterback aaron rodgers, who evaded questions about his vaccine status and then ca...   \n",
       "3    breaking news reporter, huffpost a federal judge has ruled that united airlines can place its unvaccinated employees on unpaid leave, even if those employees received religious or medical exemptio...   \n",
       "4    senior reporter, huffpost politics reporter, huffpost washington — after republicans slashed tax rates in 2017, democrats won control of the house of representatives partly by promising to undo th...   \n",
       "..                                                                                                                                                                                                       ...   \n",
       "160  \\n\\t\\tevery item on this page was chosen by an elle editor. we may earn commission on some of the items you choose to buy.\\n\\n\\t\\t\\t the singer swatched each product as jennifer coolidge—bend-and-...   \n",
       "161  \\n\\t\\tevery item on this page was chosen by an elle editor. we may earn commission on some of the items you choose to buy.\\n\\n\\t\\t\\t from de-gunking pore strips to facials in a jar.  if pore size ...   \n",
       "162  \\n\\t\\tevery item on this page was chosen by an elle editor. we may earn commission on some of the items you choose to buy.\\n\\n\\t\\t\\t see kim kardashian west pose in hot pink, exclusively on elle.c...   \n",
       "163  \\n\\t\\tour product picks are editor-tested, expert-approved. we may earn a commission through links on our site.\\n\\n\\t\\t\\t gear up to explore the wild with everything you’ll need. picture this: you...   \n",
       "164  sign in k.c. tinsley oct 27·10 min read how have you been? i hear you’ve gotten yourself into some heat as of late! then again, what else is new with you, old friend? har, har, har. i’m curious wh...   \n",
       "\n",
       "                                                                                                                                                                                          article_text_clean  \n",
       "0    general assignment reporter huffpost reigning mvp nikola jokic of the denver nuggets blindsided the miami heat markieff morris with hit from behind that jerked morris head back during their nba ga...  \n",
       "1    on assignment for huffpost there one thing that all chefs seem to agree on when it comes to cooking thanksgiving dinner there always lot to do so finding ways to save time is just as important as ...  \n",
       "2    overnight editor huffpost jimmy kimmel spent much of his monday night monologue tearing into green bay packers quarterback aaron rodgers who evaded questions about his vaccine status and then caug...  \n",
       "3    breaking news reporter huffpost federal judge has ruled that united airlines can place its unvaccinated employees on unpaid leave even if those employees received religious or medical exemptions f...  \n",
       "4    senior reporter huffpost politics reporter huffpost washington after republicans slashed tax rates in democrats won control of the house of representatives partly by promising to undo the gop tax ...  \n",
       "..                                                                                                                                                                                                       ...  \n",
       "160  every item on this page was chosen by an elle editor we may earn commission on some of the items you choose to buy the singer swatched each product as jennifer coolidge bend and snap not included ...  \n",
       "161  every item on this page was chosen by an elle editor we may earn commission on some of the items you choose to buy from de gunking pore strips to facials in jar if pore size is concern know that f...  \n",
       "162  every item on this page was chosen by an elle editor we may earn commission on some of the items you choose to buy see kim kardashian west pose in hot pink exclusively on elle com when fendi colla...  \n",
       "163  our product picks are editor tested expert approved we may earn commission through links on our site gear up to explore the wild with everything you ll need picture this you re about to head into ...  \n",
       "164  sign in tinsley oct min read how have you been hear you ve gotten yourself into some heat as of late then again what else is new with you old friend har har har curious what you will think as you ...  \n",
       "\n",
       "[165 rows x 4 columns]"
      ]
     },
     "execution_count": 28,
     "metadata": {},
     "output_type": "execute_result"
    }
   ],
   "source": [
    "full_df"
   ]
  },
  {
   "cell_type": "markdown",
   "id": "d1fe7dba-ff66-4259-90cd-d56429e8658a",
   "metadata": {},
   "source": [
    "## Lemmatize text"
   ]
  },
  {
   "cell_type": "code",
   "execution_count": 29,
   "id": "d741a506-30dd-47f4-af22-df97587f815e",
   "metadata": {},
   "outputs": [],
   "source": [
    "import spacy"
   ]
  },
  {
   "cell_type": "code",
   "execution_count": 30,
   "id": "bd0194fa-afee-469c-8afb-9fe5b3801e5c",
   "metadata": {},
   "outputs": [],
   "source": [
    "nlp = spacy.load(\"en_core_web_sm\")"
   ]
  },
  {
   "cell_type": "code",
   "execution_count": 31,
   "id": "34992e3c-b64b-403a-8d58-41c410719241",
   "metadata": {},
   "outputs": [
    {
     "name": "stdout",
     "output_type": "stream",
     "text": [
      "66.36220097541809\n"
     ]
    }
   ],
   "source": [
    "t = time.time()\n",
    "full_df['article_text_clean'] = full_df['article_text_clean'].apply(lambda x: \" \".join(token.lemma_ for token in nlp(x)) )\n",
    "print(time.time() - t) "
   ]
  },
  {
   "cell_type": "code",
   "execution_count": 32,
   "id": "008e39b8-031f-4c68-91e8-fc72d90fe552",
   "metadata": {},
   "outputs": [
    {
     "name": "stderr",
     "output_type": "stream",
     "text": [
      "[nltk_data] Downloading package stopwords to\n",
      "[nltk_data]     C:\\Users\\Haseeb\\AppData\\Roaming\\nltk_data...\n",
      "[nltk_data]   Package stopwords is already up-to-date!\n"
     ]
    }
   ],
   "source": [
    "import nltk\n",
    "nltk.download('stopwords')\n",
    "from nltk.corpus import stopwords\n",
    "\n",
    "stop_words = set(stopwords.words('english'))"
   ]
  },
  {
   "cell_type": "code",
   "execution_count": 33,
   "id": "dc208f33-814e-41db-8dac-6bf05062b133",
   "metadata": {},
   "outputs": [],
   "source": [
    "# remove stop words\n",
    "full_df['article_text_clean'] = full_df['article_text_clean'].apply(lambda x: \" \".join(x for x in x.split() if x not in stop_words))"
   ]
  },
  {
   "cell_type": "markdown",
   "id": "5b3332a0-610c-47e8-9a7c-1f7deaa80183",
   "metadata": {
    "tags": []
   },
   "source": [
    "## Train Test Split"
   ]
  },
  {
   "cell_type": "code",
   "execution_count": 34,
   "id": "b3bf4447-1b0f-4915-8e13-dccc150262a8",
   "metadata": {},
   "outputs": [],
   "source": [
    "from sklearn.model_selection import train_test_split"
   ]
  },
  {
   "cell_type": "code",
   "execution_count": 35,
   "id": "325185ab-08d8-4831-8d65-cace47589260",
   "metadata": {},
   "outputs": [],
   "source": [
    "seed = 111\n",
    "\n",
    "X_train, X_test, y_train, y_test = train_test_split(full_df[['article_text_clean']], full_df['wanted'], test_size=0.25, random_state=seed)"
   ]
  },
  {
   "cell_type": "markdown",
   "id": "f491127c-5ccf-43b2-b98b-a9626d5ba01b",
   "metadata": {},
   "source": [
    "## Modelling"
   ]
  },
  {
   "cell_type": "code",
   "execution_count": 36,
   "id": "2e8b5408-bf4f-4e02-8d65-87135b02c7d2",
   "metadata": {},
   "outputs": [],
   "source": [
    "from sklearn.feature_extraction.text import TfidfVectorizer\n",
    "from sklearn.svm import LinearSVC\n",
    "from sklearn.metrics import confusion_matrix, ConfusionMatrixDisplay\n",
    "import matplotlib.pyplot as plt"
   ]
  },
  {
   "cell_type": "code",
   "execution_count": 37,
   "id": "ba2644a4-1e53-4968-a836-9f7545ffa319",
   "metadata": {},
   "outputs": [],
   "source": [
    "# instantiate the tfidf vectorizer\n",
    "vect = TfidfVectorizer(ngram_range=(1,3), min_df=3)"
   ]
  },
  {
   "cell_type": "code",
   "execution_count": 38,
   "id": "e6331226-99ec-4e16-b3d8-4d13b2e47978",
   "metadata": {},
   "outputs": [],
   "source": [
    "# fit transform x train features\n",
    "tv = vect.fit_transform(X_train['article_text_clean'])"
   ]
  },
  {
   "cell_type": "code",
   "execution_count": 39,
   "id": "528c8f5f-5ce9-47a6-9e9f-dd283944a64e",
   "metadata": {},
   "outputs": [
    {
     "data": {
      "text/plain": [
       "array(['aaron', 'abandon', 'abc', ..., 'zombie', 'zone', 'zoom'],\n",
       "      dtype=object)"
      ]
     },
     "execution_count": 39,
     "metadata": {},
     "output_type": "execute_result"
    }
   ],
   "source": [
    "vect.get_feature_names_out()"
   ]
  },
  {
   "cell_type": "code",
   "execution_count": 40,
   "id": "2a467656-7824-492b-8f0c-195d8fb91fb3",
   "metadata": {},
   "outputs": [],
   "source": [
    "# instatniate support vector classifier\n",
    "clf = LinearSVC()"
   ]
  },
  {
   "cell_type": "code",
   "execution_count": 41,
   "id": "b2c5885c-bdd1-458c-a13d-1157a2cae715",
   "metadata": {},
   "outputs": [],
   "source": [
    "# fit model on train data\n",
    "model = clf.fit(tv, y_train)"
   ]
  },
  {
   "cell_type": "code",
   "execution_count": 42,
   "id": "85770168-3e19-43c2-a086-20f381a2c577",
   "metadata": {},
   "outputs": [],
   "source": [
    "# transform test data using vectorizer\n",
    "tv_test = vect.transform(X_test['article_text_clean'])"
   ]
  },
  {
   "cell_type": "code",
   "execution_count": 43,
   "id": "7e563d26-8608-4253-bec8-9544319fa8d2",
   "metadata": {},
   "outputs": [],
   "source": [
    "# predict using test data\n",
    "preds = model.predict(tv_test)"
   ]
  },
  {
   "cell_type": "code",
   "execution_count": 44,
   "id": "f1a00023-37d8-4d1d-a785-efd1cf58f45f",
   "metadata": {},
   "outputs": [
    {
     "data": {
      "text/plain": [
       "array([[16,  6],\n",
       "       [ 0, 20]], dtype=int64)"
      ]
     },
     "execution_count": 44,
     "metadata": {},
     "output_type": "execute_result"
    }
   ],
   "source": [
    "# print confusion matrix to check accuracy of predictions\n",
    "cm = confusion_matrix(y_test, preds, labels=clf.classes_)\n",
    "cm"
   ]
  },
  {
   "cell_type": "code",
   "execution_count": 45,
   "id": "815f6228-bab0-4343-bc3f-49a654b5b77d",
   "metadata": {},
   "outputs": [
    {
     "data": {
      "image/png": "[encoded data removed]",
      "text/plain": [
       "<Figure size 432x288 with 2 Axes>"
      ]
     },
     "metadata": {
      "needs_background": "light"
     },
     "output_type": "display_data"
    }
   ],
   "source": [
    "disp = ConfusionMatrixDisplay(confusion_matrix=cm,\n",
    "                              display_labels=clf.classes_)\n",
    "disp.plot()\n",
    "plt.show()"
   ]
  },
  {
   "cell_type": "markdown",
   "id": "e971bfd3-b64c-4d08-bf9a-d372bf3ac725",
   "metadata": {},
   "source": [
    "## Import data from gsheet"
   ]
  },
  {
   "cell_type": "code",
   "execution_count": 46,
   "id": "a50beb7e-50d5-49a0-acda-3592fc6f7c67",
   "metadata": {},
   "outputs": [],
   "source": [
    "import gspread"
   ]
  },
  {
   "cell_type": "code",
   "execution_count": 47,
   "id": "e91d1c76-cab6-4c49-813c-2a1e9356cd9d",
   "metadata": {},
   "outputs": [],
   "source": [
    "gc = gspread.oauth()"
   ]
  },
  {
   "cell_type": "code",
   "execution_count": 50,
   "id": "69c5ce8c-ed2e-4819-8d04-e6fce599ff37",
   "metadata": {},
   "outputs": [],
   "source": [
    "huffpost_sheet = gc.open_by_url('https://docs.google.com/spreadsheets/d/1pGmRPvw_5e4-m4oHhPGS9lQNLlMeVQS4ttv0uR9MRnI/edit#gid=0')\n",
    "huffpost_url = pd.DataFrame(huffpost_sheet.sheet1.get_all_records() )['url']"
   ]
  },
  {
   "cell_type": "code",
   "execution_count": 51,
   "id": "7b983aa1-7238-4ec4-a66c-df831d380279",
   "metadata": {},
   "outputs": [],
   "source": [
    "espn_sheet = gc.open_by_url('https://docs.google.com/spreadsheets/d/1am1zgyfc0MDMjGd2ATm5DfJ5mm791Wcxv9SWKxWsKOo/edit#gid=0')\n",
    "espn_url = pd.DataFrame(espn_sheet.sheet1.get_all_records() )['url']"
   ]
  },
  {
   "cell_type": "code",
   "execution_count": 52,
   "id": "ff537263-52fe-41c2-9822-ac07d3c16e56",
   "metadata": {},
   "outputs": [],
   "source": [
    "buzzfeed_sheet = gc.open_by_url('https://docs.google.com/spreadsheets/d/14V9eGi-65vntZvGF5mIMBEB2j2mdFs723ixWAjjllQI/edit#gid=0')\n",
    "buzzfeed_url = pd.DataFrame(buzzfeed_sheet.sheet1.get_all_records() )['url']"
   ]
  },
  {
   "cell_type": "code",
   "execution_count": 53,
   "id": "82374e3e-a62b-42e4-8a29-9c947a94047a",
   "metadata": {},
   "outputs": [],
   "source": [
    "news_digest_urls = pd.concat([huffpost_url, espn_url, buzzfeed_url])"
   ]
  },
  {
   "cell_type": "code",
   "execution_count": 54,
   "id": "7ce99670-22ec-4ab6-ac84-80c5429bdf39",
   "metadata": {},
   "outputs": [
    {
     "name": "stdout",
     "output_type": "stream",
     "text": [
      "75.9353392124176\n"
     ]
    }
   ],
   "source": [
    "t = time.time()\n",
    "news_digest_texts = Parallel(n_jobs=-1)(delayed(get_article_text)(url) for url in news_digest_urls)\n",
    "print(time.time() - t) "
   ]
  },
  {
   "cell_type": "code",
   "execution_count": 55,
   "id": "4c564b3e-8663-42ac-b939-afd3d242d17e",
   "metadata": {},
   "outputs": [],
   "source": [
    "news_digest_df = pd.concat([news_digest_urls.reset_index(drop=True), pd.Series(news_digest_texts).reset_index(drop=True)], axis = 1)\n",
    "news_digest_df.columns = ['url', 'article_text']"
   ]
  },
  {
   "cell_type": "code",
   "execution_count": 56,
   "id": "729e674c-b2d0-4021-bed7-26b36d8b776f",
   "metadata": {},
   "outputs": [
    {
     "ename": "KeyboardInterrupt",
     "evalue": "",
     "output_type": "error",
     "traceback": [
      "\u001b[1;31m---------------------------------------------------------------------------\u001b[0m",
      "\u001b[1;31mKeyboardInterrupt\u001b[0m                         Traceback (most recent call last)",
      "\u001b[1;32m~\\AppData\\Local\\Temp/ipykernel_13176/3051249847.py\u001b[0m in \u001b[0;36m<module>\u001b[1;34m\u001b[0m\n\u001b[0;32m      3\u001b[0m \u001b[1;33m\u001b[0m\u001b[0m\n\u001b[0;32m      4\u001b[0m \u001b[0mt\u001b[0m \u001b[1;33m=\u001b[0m \u001b[0mtime\u001b[0m\u001b[1;33m.\u001b[0m\u001b[0mtime\u001b[0m\u001b[1;33m(\u001b[0m\u001b[1;33m)\u001b[0m\u001b[1;33m\u001b[0m\u001b[1;33m\u001b[0m\u001b[0m\n\u001b[1;32m----> 5\u001b[1;33m \u001b[0mnews_digest_df\u001b[0m\u001b[1;33m[\u001b[0m\u001b[1;34m'article_text_clean'\u001b[0m\u001b[1;33m]\u001b[0m \u001b[1;33m=\u001b[0m \u001b[0mnews_digest_df\u001b[0m\u001b[1;33m[\u001b[0m\u001b[1;34m'article_text_clean'\u001b[0m\u001b[1;33m]\u001b[0m\u001b[1;33m.\u001b[0m\u001b[0mapply\u001b[0m\u001b[1;33m(\u001b[0m\u001b[1;32mlambda\u001b[0m \u001b[0mx\u001b[0m\u001b[1;33m:\u001b[0m \u001b[1;34m\" \"\u001b[0m\u001b[1;33m.\u001b[0m\u001b[0mjoin\u001b[0m\u001b[1;33m(\u001b[0m\u001b[0mtoken\u001b[0m\u001b[1;33m.\u001b[0m\u001b[0mlemma_\u001b[0m \u001b[1;32mfor\u001b[0m \u001b[0mtoken\u001b[0m \u001b[1;32min\u001b[0m \u001b[0mnlp\u001b[0m\u001b[1;33m(\u001b[0m\u001b[0mx\u001b[0m\u001b[1;33m)\u001b[0m\u001b[1;33m)\u001b[0m \u001b[1;33m)\u001b[0m\u001b[1;33m\u001b[0m\u001b[1;33m\u001b[0m\u001b[0m\n\u001b[0m\u001b[0;32m      6\u001b[0m \u001b[0mprint\u001b[0m\u001b[1;33m(\u001b[0m\u001b[0mtime\u001b[0m\u001b[1;33m.\u001b[0m\u001b[0mtime\u001b[0m\u001b[1;33m(\u001b[0m\u001b[1;33m)\u001b[0m \u001b[1;33m-\u001b[0m \u001b[0mt\u001b[0m\u001b[1;33m)\u001b[0m\u001b[1;33m\u001b[0m\u001b[1;33m\u001b[0m\u001b[0m\n",
      "\u001b[1;32m~\\anaconda3\\envs\\ch_5_custom_newsfeed\\lib\\site-packages\\pandas\\core\\series.py\u001b[0m in \u001b[0;36mapply\u001b[1;34m(self, func, convert_dtype, args, **kwargs)\u001b[0m\n\u001b[0;32m   4355\u001b[0m         \u001b[0mdtype\u001b[0m\u001b[1;33m:\u001b[0m \u001b[0mfloat64\u001b[0m\u001b[1;33m\u001b[0m\u001b[1;33m\u001b[0m\u001b[0m\n\u001b[0;32m   4356\u001b[0m         \"\"\"\n\u001b[1;32m-> 4357\u001b[1;33m         \u001b[1;32mreturn\u001b[0m \u001b[0mSeriesApply\u001b[0m\u001b[1;33m(\u001b[0m\u001b[0mself\u001b[0m\u001b[1;33m,\u001b[0m \u001b[0mfunc\u001b[0m\u001b[1;33m,\u001b[0m \u001b[0mconvert_dtype\u001b[0m\u001b[1;33m,\u001b[0m \u001b[0margs\u001b[0m\u001b[1;33m,\u001b[0m \u001b[0mkwargs\u001b[0m\u001b[1;33m)\u001b[0m\u001b[1;33m.\u001b[0m\u001b[0mapply\u001b[0m\u001b[1;33m(\u001b[0m\u001b[1;33m)\u001b[0m\u001b[1;33m\u001b[0m\u001b[1;33m\u001b[0m\u001b[0m\n\u001b[0m\u001b[0;32m   4358\u001b[0m \u001b[1;33m\u001b[0m\u001b[0m\n\u001b[0;32m   4359\u001b[0m     def _reduce(\n",
      "\u001b[1;32m~\\anaconda3\\envs\\ch_5_custom_newsfeed\\lib\\site-packages\\pandas\\core\\apply.py\u001b[0m in \u001b[0;36mapply\u001b[1;34m(self)\u001b[0m\n\u001b[0;32m   1041\u001b[0m             \u001b[1;32mreturn\u001b[0m \u001b[0mself\u001b[0m\u001b[1;33m.\u001b[0m\u001b[0mapply_str\u001b[0m\u001b[1;33m(\u001b[0m\u001b[1;33m)\u001b[0m\u001b[1;33m\u001b[0m\u001b[1;33m\u001b[0m\u001b[0m\n\u001b[0;32m   1042\u001b[0m \u001b[1;33m\u001b[0m\u001b[0m\n\u001b[1;32m-> 1043\u001b[1;33m         \u001b[1;32mreturn\u001b[0m \u001b[0mself\u001b[0m\u001b[1;33m.\u001b[0m\u001b[0mapply_standard\u001b[0m\u001b[1;33m(\u001b[0m\u001b[1;33m)\u001b[0m\u001b[1;33m\u001b[0m\u001b[1;33m\u001b[0m\u001b[0m\n\u001b[0m\u001b[0;32m   1044\u001b[0m \u001b[1;33m\u001b[0m\u001b[0m\n\u001b[0;32m   1045\u001b[0m     \u001b[1;32mdef\u001b[0m \u001b[0magg\u001b[0m\u001b[1;33m(\u001b[0m\u001b[0mself\u001b[0m\u001b[1;33m)\u001b[0m\u001b[1;33m:\u001b[0m\u001b[1;33m\u001b[0m\u001b[1;33m\u001b[0m\u001b[0m\n",
      "\u001b[1;32m~\\anaconda3\\envs\\ch_5_custom_newsfeed\\lib\\site-packages\\pandas\\core\\apply.py\u001b[0m in \u001b[0;36mapply_standard\u001b[1;34m(self)\u001b[0m\n\u001b[0;32m   1096\u001b[0m                 \u001b[1;31m# List[Union[Callable[..., Any], str]]]]]\"; expected\u001b[0m\u001b[1;33m\u001b[0m\u001b[1;33m\u001b[0m\u001b[0m\n\u001b[0;32m   1097\u001b[0m                 \u001b[1;31m# \"Callable[[Any], Any]\"\u001b[0m\u001b[1;33m\u001b[0m\u001b[1;33m\u001b[0m\u001b[0m\n\u001b[1;32m-> 1098\u001b[1;33m                 mapped = lib.map_infer(\n\u001b[0m\u001b[0;32m   1099\u001b[0m                     \u001b[0mvalues\u001b[0m\u001b[1;33m,\u001b[0m\u001b[1;33m\u001b[0m\u001b[1;33m\u001b[0m\u001b[0m\n\u001b[0;32m   1100\u001b[0m                     \u001b[0mf\u001b[0m\u001b[1;33m,\u001b[0m  \u001b[1;31m# type: ignore[arg-type]\u001b[0m\u001b[1;33m\u001b[0m\u001b[1;33m\u001b[0m\u001b[0m\n",
      "\u001b[1;32m~\\anaconda3\\envs\\ch_5_custom_newsfeed\\lib\\site-packages\\pandas\\_libs\\lib.pyx\u001b[0m in \u001b[0;36mpandas._libs.lib.map_infer\u001b[1;34m()\u001b[0m\n",
      "\u001b[1;32m~\\AppData\\Local\\Temp/ipykernel_13176/3051249847.py\u001b[0m in \u001b[0;36m<lambda>\u001b[1;34m(x)\u001b[0m\n\u001b[0;32m      3\u001b[0m \u001b[1;33m\u001b[0m\u001b[0m\n\u001b[0;32m      4\u001b[0m \u001b[0mt\u001b[0m \u001b[1;33m=\u001b[0m \u001b[0mtime\u001b[0m\u001b[1;33m.\u001b[0m\u001b[0mtime\u001b[0m\u001b[1;33m(\u001b[0m\u001b[1;33m)\u001b[0m\u001b[1;33m\u001b[0m\u001b[1;33m\u001b[0m\u001b[0m\n\u001b[1;32m----> 5\u001b[1;33m \u001b[0mnews_digest_df\u001b[0m\u001b[1;33m[\u001b[0m\u001b[1;34m'article_text_clean'\u001b[0m\u001b[1;33m]\u001b[0m \u001b[1;33m=\u001b[0m \u001b[0mnews_digest_df\u001b[0m\u001b[1;33m[\u001b[0m\u001b[1;34m'article_text_clean'\u001b[0m\u001b[1;33m]\u001b[0m\u001b[1;33m.\u001b[0m\u001b[0mapply\u001b[0m\u001b[1;33m(\u001b[0m\u001b[1;32mlambda\u001b[0m \u001b[0mx\u001b[0m\u001b[1;33m:\u001b[0m \u001b[1;34m\" \"\u001b[0m\u001b[1;33m.\u001b[0m\u001b[0mjoin\u001b[0m\u001b[1;33m(\u001b[0m\u001b[0mtoken\u001b[0m\u001b[1;33m.\u001b[0m\u001b[0mlemma_\u001b[0m \u001b[1;32mfor\u001b[0m \u001b[0mtoken\u001b[0m \u001b[1;32min\u001b[0m \u001b[0mnlp\u001b[0m\u001b[1;33m(\u001b[0m\u001b[0mx\u001b[0m\u001b[1;33m)\u001b[0m\u001b[1;33m)\u001b[0m \u001b[1;33m)\u001b[0m\u001b[1;33m\u001b[0m\u001b[1;33m\u001b[0m\u001b[0m\n\u001b[0m\u001b[0;32m      6\u001b[0m \u001b[0mprint\u001b[0m\u001b[1;33m(\u001b[0m\u001b[0mtime\u001b[0m\u001b[1;33m.\u001b[0m\u001b[0mtime\u001b[0m\u001b[1;33m(\u001b[0m\u001b[1;33m)\u001b[0m \u001b[1;33m-\u001b[0m \u001b[0mt\u001b[0m\u001b[1;33m)\u001b[0m\u001b[1;33m\u001b[0m\u001b[1;33m\u001b[0m\u001b[0m\n",
      "\u001b[1;32m~\\anaconda3\\envs\\ch_5_custom_newsfeed\\lib\\site-packages\\spacy\\language.py\u001b[0m in \u001b[0;36m__call__\u001b[1;34m(self, text, disable, component_cfg)\u001b[0m\n\u001b[0;32m    443\u001b[0m             \u001b[1;32mif\u001b[0m \u001b[1;32mnot\u001b[0m \u001b[0mhasattr\u001b[0m\u001b[1;33m(\u001b[0m\u001b[0mproc\u001b[0m\u001b[1;33m,\u001b[0m \u001b[1;34m\"__call__\"\u001b[0m\u001b[1;33m)\u001b[0m\u001b[1;33m:\u001b[0m\u001b[1;33m\u001b[0m\u001b[1;33m\u001b[0m\u001b[0m\n\u001b[0;32m    444\u001b[0m                 \u001b[1;32mraise\u001b[0m \u001b[0mValueError\u001b[0m\u001b[1;33m(\u001b[0m\u001b[0mErrors\u001b[0m\u001b[1;33m.\u001b[0m\u001b[0mE003\u001b[0m\u001b[1;33m.\u001b[0m\u001b[0mformat\u001b[0m\u001b[1;33m(\u001b[0m\u001b[0mcomponent\u001b[0m\u001b[1;33m=\u001b[0m\u001b[0mtype\u001b[0m\u001b[1;33m(\u001b[0m\u001b[0mproc\u001b[0m\u001b[1;33m)\u001b[0m\u001b[1;33m,\u001b[0m \u001b[0mname\u001b[0m\u001b[1;33m=\u001b[0m\u001b[0mname\u001b[0m\u001b[1;33m)\u001b[0m\u001b[1;33m)\u001b[0m\u001b[1;33m\u001b[0m\u001b[1;33m\u001b[0m\u001b[0m\n\u001b[1;32m--> 445\u001b[1;33m             \u001b[0mdoc\u001b[0m \u001b[1;33m=\u001b[0m \u001b[0mproc\u001b[0m\u001b[1;33m(\u001b[0m\u001b[0mdoc\u001b[0m\u001b[1;33m,\u001b[0m \u001b[1;33m**\u001b[0m\u001b[0mcomponent_cfg\u001b[0m\u001b[1;33m.\u001b[0m\u001b[0mget\u001b[0m\u001b[1;33m(\u001b[0m\u001b[0mname\u001b[0m\u001b[1;33m,\u001b[0m \u001b[1;33m{\u001b[0m\u001b[1;33m}\u001b[0m\u001b[1;33m)\u001b[0m\u001b[1;33m)\u001b[0m\u001b[1;33m\u001b[0m\u001b[1;33m\u001b[0m\u001b[0m\n\u001b[0m\u001b[0;32m    446\u001b[0m             \u001b[1;32mif\u001b[0m \u001b[0mdoc\u001b[0m \u001b[1;32mis\u001b[0m \u001b[1;32mNone\u001b[0m\u001b[1;33m:\u001b[0m\u001b[1;33m\u001b[0m\u001b[1;33m\u001b[0m\u001b[0m\n\u001b[0;32m    447\u001b[0m                 \u001b[1;32mraise\u001b[0m \u001b[0mValueError\u001b[0m\u001b[1;33m(\u001b[0m\u001b[0mErrors\u001b[0m\u001b[1;33m.\u001b[0m\u001b[0mE005\u001b[0m\u001b[1;33m.\u001b[0m\u001b[0mformat\u001b[0m\u001b[1;33m(\u001b[0m\u001b[0mname\u001b[0m\u001b[1;33m=\u001b[0m\u001b[0mname\u001b[0m\u001b[1;33m)\u001b[0m\u001b[1;33m)\u001b[0m\u001b[1;33m\u001b[0m\u001b[1;33m\u001b[0m\u001b[0m\n",
      "\u001b[1;31mKeyboardInterrupt\u001b[0m: "
     ]
    }
   ],
   "source": [
    "news_digest_df['article_text'] = news_digest_df['article_text'].str.lower() \n",
    "news_digest_df['article_text_clean'] = news_digest_df['article_text'].apply(clean_str)\n",
    "\n",
    "t = time.time()\n",
    "news_digest_df['article_text_clean'] = news_digest_df['article_text_clean'].apply(lambda x: \" \".join(token.lemma_ for token in nlp(x)) )\n",
    "print(time.time() - t) "
   ]
  },
  {
   "cell_type": "code",
   "execution_count": null,
   "id": "9c3f337b-da1b-46fe-baf4-95bb293c2e24",
   "metadata": {},
   "outputs": [],
   "source": [
    "news_digest_df['article_text_clean'] = news_digest_df['article_text_clean'].apply(lambda x: \" \".join(x for x in x.split() if x not in stop_words))"
   ]
  },
  {
   "cell_type": "code",
   "execution_count": null,
   "id": "5a9d88be-9962-49a8-b9fb-707e200e52d6",
   "metadata": {},
   "outputs": [],
   "source": [
    "test_matrix = vect.transform(news_digest_df['article_text_clean'])"
   ]
  },
  {
   "cell_type": "code",
   "execution_count": null,
   "id": "0397eda3-948e-4d7d-9a2a-2089013a677a",
   "metadata": {},
   "outputs": [],
   "source": [
    "results = pd.DataFrame(model.predict(test_matrix), columns=['wanted'])"
   ]
  },
  {
   "cell_type": "code",
   "execution_count": null,
   "id": "0b9005ad-8b71-41eb-9add-b167b854f8a2",
   "metadata": {},
   "outputs": [],
   "source": [
    "import pickle\n",
    "\n",
    "with open('svc_model.pkl', 'wb') as f:\n",
    "    pickle.dump(model, f)\n",
    "    \n",
    "with open('tf_idf_vect.pkl', 'wb') as f:\n",
    "    pickle.dump(vect, f)\n",
    "    "
   ]
  },
  {
   "cell_type": "code",
   "execution_count": null,
   "id": "fc50f889-a01d-4df8-b353-d85a79ef5c70",
   "metadata": {},
   "outputs": [],
   "source": []
  }
 ],
 "metadata": {
  "kernelspec": {
   "display_name": "Python 3 (ipykernel)",
   "language": "python",
   "name": "python3"
  },
  "language_info": {
   "codemirror_mode": {
    "name": "ipython",
    "version": 3
   },
   "file_extension": ".py",
   "mimetype": "text/x-python",
   "name": "python",
   "nbconvert_exporter": "python",
   "pygments_lexer": "ipython3",
   "version": "3.9.7"
  }
 },
 "nbformat": 4,
 "nbformat_minor": 5
}
